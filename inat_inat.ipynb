{
 "cells": [
  {
   "cell_type": "code",
   "execution_count": 1,
   "metadata": {},
   "outputs": [],
   "source": [
    "import pandas as pd\n",
    "import requests\n",
    "from tqdm.notebook import trange, tqdm\n",
    "import math\n",
    "import random\n",
    "import time\n",
    "import os\n",
    "import shutil"
   ]
  },
  {
   "cell_type": "code",
   "execution_count": 2,
   "metadata": {},
   "outputs": [],
   "source": [
    "imena = {'I':'budetinetakoe', 'N':'anastasiiamerkulova'}\n",
    "# имя и аккаунт"
   ]
  },
  {
   "cell_type": "code",
   "execution_count": 3,
   "metadata": {},
   "outputs": [],
   "source": [
    "def get_obs_to_df(ima, I_ids):\n",
    "    \n",
    "    # принимает имена и загружает наблюдения в датасет со столбцами: 'ima','taxon_id', 'obs_id','date','scientific_name', 'english_common_name', 'common_name','uri', 'photos'\n",
    "    # также принимает список таксонов I_ids, которые нужно загружать с сервера (во избежание загрузки \"ненужных\" таксонов)\n",
    "    # возвращает датасет pandas\n",
    "\n",
    "    page = 1\n",
    "    pages = 99\n",
    "    per_page = 200\n",
    "    url = 'https://api.inaturalist.org/v1/observations?'\n",
    "\n",
    "    df = pd.DataFrame(columns=['ima','taxon_id', 'obs_id','date','scientific_name', 'english_common_name', 'common_name','uri', 'photos'])\n",
    "    row_number = 1\n",
    "\n",
    "    while page <= pages:\n",
    "        params = {'photos' : 'true',\n",
    "            'user_login' : ima,\n",
    "            'quality_grade' : 'research',\n",
    "            'locale' : 'ru',\n",
    "            'taxon_id' : I_ids,\n",
    "            'hrank' : 'species',\n",
    "            'lrank' : 'form',\n",
    "            'page' : page,\n",
    "            'per_page' : per_page}\n",
    "        response = requests.get(url=url, params=params)\n",
    "        print(f'Статус: {response.status_code}, на страницу: {per_page}, страница: {page}, всего страниц: {pages}  \\n', end='\\r')\n",
    "        json_response = response.json()\n",
    "        results = json_response['results']\n",
    "        total_results = json_response['total_results']\n",
    "        pages = math.ceil(total_results/per_page)\n",
    "\n",
    "        for i in range(1, len(results)+1):\n",
    "            obs = results[i-1]\n",
    "            obs_id = obs['id']\n",
    "            date = obs['observed_on_details']['date']\n",
    "            scientific_name = obs['taxon']['name']\n",
    "            taxon_id = obs['taxon']['id']\n",
    "            \n",
    "            try:\n",
    "                common_name = obs['taxon']['preferred_common_name']\n",
    "            except:\n",
    "                common_name = ''\n",
    "            try:\n",
    "                english_common_name = json_response['results'][i-1]['taxon']['english_common_name'].capitalize()\n",
    "            except:\n",
    "                english_common_name = ''\n",
    "            uri = obs['uri']\n",
    "\n",
    "            photos = list()\n",
    "            for n in range(1, len(json_response['results'][i-1]['photos'])+1):\n",
    "                photos.append(json_response['results'][i-1]['photos'][n-1]['url'])\n",
    "\n",
    "            df.loc[row_number] = [ima, taxon_id, obs_id, date, scientific_name, english_common_name, common_name, uri, photos]\n",
    "            row_number += 1\n",
    "            \n",
    "        page += 1\n",
    "        time.sleep(1)\n",
    "        \n",
    "    return df"
   ]
  },
  {
   "cell_type": "code",
   "execution_count": 4,
   "metadata": {},
   "outputs": [],
   "source": [
    "def get_obs_unique(df):\n",
    "    \n",
    "    # оставляет в датасете только одно случайное наблюдение каждого scientific_name\n",
    "    # возвращает этот же датасет, с уменьшенным количеством строк\n",
    "\n",
    "    df = df.sample(frac=1).drop_duplicates(subset='taxon_id')\n",
    "    \n",
    "    return df"
   ]
  },
  {
   "cell_type": "code",
   "execution_count": 5,
   "metadata": {},
   "outputs": [],
   "source": [
    "def get_common_obs(df_I, df_N):\n",
    "    # берёт два датасета и делает из них один, оставляя только совпадающие taxon_id\n",
    "    # возвращает объединённый датасет\n",
    "\n",
    "    df = df_I.merge(right=df_N, how='inner',on='taxon_id')\n",
    "\n",
    "    return df"
   ]
  },
  {
   "cell_type": "code",
   "execution_count": 6,
   "metadata": {},
   "outputs": [],
   "source": [
    "def get_structure(df_common_obs):\n",
    "    # берёт общий датасет, идёт по scientific_name и для каждого:\n",
    "        # создаёт папку с именем scientific_name\n",
    "        # создаёт в scientific_name подпапки I, N\n",
    "        # в scientific_name создаёт info.txt\n",
    "        # в подпапки загружает фотографии 1.jpg, 2.jpg и тд\n",
    "        # возвращает True если всё ок (это не используется)\n",
    "\n",
    "        \n",
    "    for s_name in tqdm(df_I_N['scientific_name_x']):\n",
    "\n",
    "        current_row = df_I_N[df_I_N['scientific_name_x']==s_name]\n",
    "        parent_dir = '/home/eva/git/iNat/iNat/'\n",
    "        current_dir = parent_dir + '/' + s_name\n",
    "        os.mkdir(current_dir)\n",
    "        I_dir = current_dir+'/I'\n",
    "        N_dir = current_dir+'/N'\n",
    "        os.mkdir(I_dir)\n",
    "        os.mkdir(N_dir)\n",
    "\n",
    "        with open(current_dir+'/info.txt','w') as fi:\n",
    "            \n",
    "            uri_I = current_row['uri_x'].item()\n",
    "            uri_N = current_row['uri_y'].item()\n",
    "            scientific_name = current_row['scientific_name_x'].item()\n",
    "            english_common_name = current_row['english_common_name_x'].item()\n",
    "            common_name = current_row['common_name_x'].item()\n",
    "            string_info = f'Научное название: {scientific_name}\\n' + \\\n",
    "                f'Общее название: {common_name} \\n' + \\\n",
    "                f'Общее название (англ.): {english_common_name}\\n' + \\\n",
    "                f'URI I:\\n{uri_I}\\n' + \\\n",
    "                f'URI N:\\n{uri_N}'\n",
    "\n",
    "            fi.write(string_info)\n",
    "\n",
    "        for suffix, name_dir in (('_x', I_dir),('_y', N_dir)):\n",
    "            for i in range(len(current_row['photos'+suffix].item())):\n",
    "\n",
    "                photo_url = current_row['photos'+suffix].item()[i]\n",
    "                photo_url = photo_url.replace('square','original')\n",
    "                photo_name = str(i+1) + '.jpg'\n",
    "                file_path =  name_dir + '/' + photo_name\n",
    "                r = requests.get(url=photo_url, stream=True)\n",
    "\n",
    "                if r.status_code == 200:\n",
    "                    with open(file_path, 'wb') as f:\n",
    "                        r.raw.decode_content = True\n",
    "                        shutil.copyfileobj(r.raw, f)\n",
    "\n",
    "    return True"
   ]
  },
  {
   "cell_type": "code",
   "execution_count": 7,
   "metadata": {},
   "outputs": [],
   "source": [
    "def rename(df_common_obs):\n",
    "    # берёт список папок и переименовывает их случайным образом в 001, 002 и тд\n",
    "    # возвращает True если всё ок (это не используется)\n",
    "    # закоменченные строки с numbers_strong используются чтобы переименовать уже переименованные папки (из 001 в другое случайное число, например, 098)\n",
    "\n",
    "    numbers = list(range(1,len(df_I_N['scientific_name_x'])+1))\n",
    "    numbers_strong = numbers.copy()\n",
    "    random.shuffle(numbers)\n",
    "    parent_dir = '/home/eva/git/iNat/iNat'\n",
    "\n",
    "    for s_name, new_name in zip(df_I_N['scientific_name_x'], numbers):\n",
    "    # for strong_number, new_name in zip(numbers_strong, numbers):\n",
    "        src = parent_dir + '/' + s_name\n",
    "        # src = parent_dir + '/' + str(strong_number).zfill(3)\n",
    "        dst = parent_dir + '/' + str(new_name).zfill(3)\n",
    "        # dst = parent_dir + '/_' + str(new_name).zfill(3)\n",
    "        os.rename(src, dst)\n",
    "\n",
    "    print(f'Всего директорий: {len(numbers)} \\n')\n",
    "\n",
    "    return True"
   ]
  },
  {
   "cell_type": "code",
   "execution_count": 8,
   "metadata": {},
   "outputs": [
    {
     "name": "stdout",
     "output_type": "stream",
     "text": [
      "Статус: 200, на страницу: 200, страница: 1, всего страниц: 99  \n",
      "Статус: 200, на страницу: 200, страница: 2, всего страниц: 2  \n",
      "Список I_ids: 1453 шт. \n",
      "\n",
      "Статус: 200, на страницу: 200, страница: 1, всего страниц: 99  \n",
      "Статус: 200, на страницу: 200, страница: 2, всего страниц: 17  \n",
      "Статус: 200, на страницу: 200, страница: 3, всего страниц: 17  \n",
      "Статус: 200, на страницу: 200, страница: 4, всего страниц: 17  \n",
      "Статус: 200, на страницу: 200, страница: 5, всего страниц: 17  \n",
      "Статус: 200, на страницу: 200, страница: 6, всего страниц: 17  \n",
      "Статус: 200, на страницу: 200, страница: 7, всего страниц: 17  \n",
      "Статус: 200, на страницу: 200, страница: 8, всего страниц: 17  \n",
      "Статус: 200, на страницу: 200, страница: 9, всего страниц: 17  \n",
      "Статус: 200, на страницу: 200, страница: 10, всего страниц: 17  \n",
      "Статус: 200, на страницу: 200, страница: 11, всего страниц: 17  \n",
      "Статус: 200, на страницу: 200, страница: 12, всего страниц: 17  \n",
      "Статус: 200, на страницу: 200, страница: 13, всего страниц: 17  \n",
      "Статус: 200, на страницу: 200, страница: 14, всего страниц: 17  \n",
      "Статус: 200, на страницу: 200, страница: 15, всего страниц: 17  \n",
      "Статус: 200, на страницу: 200, страница: 16, всего страниц: 17  \n",
      "Статус: 200, на страницу: 200, страница: 17, всего страниц: 17  \n",
      "Датасет df_N: 221 шт., df_I: 225 \n",
      "\n",
      "Датасет df_I_N: 214 шт. \n",
      "\n"
     ]
    },
    {
     "data": {
      "application/vnd.jupyter.widget-view+json": {
       "model_id": "5b5027dbf41f4698a01224388d8e007d",
       "version_major": 2,
       "version_minor": 0
      },
      "text/plain": [
       "  0%|          | 0/214 [00:00<?, ?it/s]"
      ]
     },
     "metadata": {},
     "output_type": "display_data"
    },
    {
     "data": {
      "text/plain": [
       "True"
      ]
     },
     "execution_count": 8,
     "metadata": {},
     "output_type": "execute_result"
    }
   ],
   "source": [
    "df_I = get_obs_unique(get_obs_to_df(ima=imena['I'], I_ids=''))\n",
    "\n",
    "I_ids = ','.join(df_I.taxon_id.astype('string'))\n",
    "\n",
    "print(f'Датасет df_I: {len(df_I)} шт.')\n",
    "\n",
    "\n",
    "df_N = get_obs_unique(get_obs_to_df(ima=imena['N'], I_ids=I_ids))\n",
    "\n",
    "print(f'Датасет df_N: {len(df_N)} шт.')\n",
    "\n",
    "df_I_N = get_common_obs(df_I, df_N)\n",
    "\n",
    "print(f'Датасет df_I_N: {len(df_I_N)} шт.')\n",
    "\n",
    "get_structure(df_I_N)"
   ]
  },
  {
   "cell_type": "code",
   "execution_count": 9,
   "metadata": {},
   "outputs": [
    {
     "name": "stdout",
     "output_type": "stream",
     "text": [
      "Всего директорий: 214 \n",
      "\n"
     ]
    },
    {
     "data": {
      "text/plain": [
       "True"
      ]
     },
     "execution_count": 9,
     "metadata": {},
     "output_type": "execute_result"
    }
   ],
   "source": [
    "rename(df_I_N)"
   ]
  }
 ],
 "metadata": {
  "kernelspec": {
   "display_name": "heapenv",
   "language": "python",
   "name": "python3"
  },
  "language_info": {
   "codemirror_mode": {
    "name": "ipython",
    "version": 3
   },
   "file_extension": ".py",
   "mimetype": "text/x-python",
   "name": "python",
   "nbconvert_exporter": "python",
   "pygments_lexer": "ipython3",
   "version": "3.8.10"
  },
  "orig_nbformat": 4
 },
 "nbformat": 4,
 "nbformat_minor": 2
}
